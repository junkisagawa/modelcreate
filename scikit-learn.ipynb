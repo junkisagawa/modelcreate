{
    "cells": [
        {
            "cell_type": "markdown",
            "metadata": {
                "collapsed": true
            },
            "source": "# \u30ab\u30b9\u30bf\u30de\u30fc\u30c1\u30e3\u30fc\u30f3\u306e\u4e88\u6e2c\u30e2\u30c7\u30eb\u3092\u4f5c\u6210\u3057\u3088\u3046"
        },
        {
            "cell_type": "markdown",
            "metadata": {},
            "source": "\u4ee5\u4e0b\u306e\u624b\u9806\u3092\u5b9f\u65bd\u3057\u3066\u3044\u304d\u307e\u3059\u3002\n    0. \u4f7f\u7528\u3059\u308b\u30e9\u30a4\u30d6\u30e9\u30ea\u306e\u6e96\u5099\n    1. \u30c7\u30fc\u30bf\u3092\u8aad\u307f\u8fbc\u3080\n    2. \u30c7\u30fc\u30bf\u3092\u8abf\u3079\u308b\n    3. \u6a5f\u68b0\u5b66\u7fd2\u7528\u306b\u30c7\u30fc\u30bf\u3092\u6e96\u5099\u3059\u308b\n    4. \u5b66\u7fd2\u7528\u3068\u30c6\u30b9\u30c8\u7528\u306b\u30c7\u30fc\u30bf\u3092\u5206\u5272\u3059\u308b\n    5. \u4e8c\u5024\u5206\u985e\u306b\u95a2\u3059\u7a2e\u3005\u306e\u30a2\u30eb\u30b4\u30ea\u30ba\u30e0\u3092\u7528\u3044\u3066\u3001\u30e2\u30c7\u30eb\u3092\u4f5c\u6210\u3059\u308b\n    6. \u30e2\u30c7\u30eb\u3092\u8a55\u4fa1\u3059\u308b\n    7. \u4eca\u56de\u306e\u30c7\u30fc\u30bf\u306b\u6700\u3082\u9069\u3057\u305f\u30e2\u30c7\u30eb\u3092\u9078\u3076\n    8. \uff08\u9078\u3093\u3060\u30e2\u30c7\u30eb\u3092\u4fdd\u5b58\u3001\u30c7\u30d7\u30ed\u30a4\u3059\u308b\uff09"
        },
        {
            "cell_type": "markdown",
            "metadata": {},
            "source": "## 0. \u4f7f\u7528\u3059\u308b\u30e9\u30a4\u30d6\u30e9\u30ea\u306e\u6e96\u5099\n\n\u672cnotebook\u3067\u306f\u6a5f\u68b0\u5b66\u7fd2\u30e2\u30c7\u30eb\u4f5c\u6210\u7528\u306bscikit-learn\u3068\u3044\u3046\u30aa\u30fc\u30d7\u30f3\u30bd\u30fc\u30b9\u3092\u4f7f\u7528\u3059\u308b\u3002\n\u307e\u305f\u3001\u30c7\u30fc\u30bf\u3092\u53d6\u308a\u6271\u3046\u305f\u3081\u306e\u30e9\u30a4\u30d6\u30e9\u30ea\u3067\u3042\u308bpandas\u3084numpy\u3001\u30b0\u30e9\u30d5\u63cf\u753b\u7528\u306ematplotlib\u3084seaborn\u3082\u4f7f\u7528\u3057\u3066\u3044\u304f\u3002\n\n\u307e\u305a\u306f\u3053\u308c\u3089\u306e\u30e9\u30a4\u30d6\u30e9\u30ea\u3092\u672c\u74b0\u5883\u306b\u8aad\u307f\u8fbc\u3093\u3067\u3044\u304f\u3002"
        },
        {
            "cell_type": "code",
            "execution_count": null,
            "metadata": {},
            "outputs": [],
            "source": "#scikit-learn\u304c\u63d0\u4f9b\u3057\u3066\u3044\u308b\u30a2\u30eb\u30b4\u30ea\u30ba\u30e0\u304b\u3089\u3001\u4e8c\u5024\u5206\u985e\u306b\u95a2\u3059\u308b\u3082\u306e\u3092\u8aad\u307f\u8fbc\u3093\u3067\u3044\u304f\u3002\nfrom sklearn import model_selection\nfrom sklearn import tree\nfrom sklearn import svm\nfrom sklearn import ensemble\nfrom sklearn import neighbors\nfrom sklearn import linear_model\nfrom sklearn import metrics\nfrom sklearn import preprocessing"
        },
        {
            "cell_type": "code",
            "execution_count": null,
            "metadata": {},
            "outputs": [],
            "source": "%matplotlib inline \n#\u4f7f\u7528\u3059\u308b\u30e9\u30a4\u30d6\u30e9\u30ea\u3092\u8aad\u307f\u8fbc\u3093\u3067\u3044\u304f\u3002\n\nfrom IPython.display import Image\nimport matplotlib as mlp\nimport matplotlib.pyplot as plt\nimport numpy as np\nimport os\nimport pandas as pd\nimport sklearn\nimport seaborn as sns\nimport json"
        },
        {
            "cell_type": "markdown",
            "metadata": {},
            "source": "## Dataset"
        },
        {
            "cell_type": "markdown",
            "metadata": {},
            "source": "\u4eca\u56de\u306fAutoAI\u3067\u30e2\u30c7\u30eb\u3092\u4f5c\u6210\u3057\u305f\u3068\u304d\u3068\u540c\u69d8\u3001charn.csv\u3092\u4f7f\u7528\u3057\u307e\u3059\u3002\n\n\u203b \u3053\u3061\u3089\u304b\u3089\u3082\u30c0\u30a6\u30f3\u30ed\u30fc\u30c9\u3067\u304d\u307e\u3059\u3002\nhttps://www.kaggle.com/becksddf/churn-in-telecoms-dataset/data. \n\n\u30a2\u30bb\u30c3\u30c8\u304b\u3089insert to code\u3092\u30af\u30ea\u30c3\u30af\u3057\u3001\u4e0b\u306e\u30bb\u30eb\u306b\u8aad\u307f\u8fbc\u3080\u30d7\u30ed\u30b0\u30e9\u30e0\u3092\u8ffd\u52a0\u3057\u307e\u3059\u3002\n\n#\u4e0b\u306e\u884c\u306b\u30ab\u30fc\u30bd\u30eb\u3092\u5408\u308f\u305b\u3001insert to code > pandas dataframe\n\n#\u4ee5\u4e0b\u306e\u884c\u306e\u3001df_data_X\u306e\u90e8\u5206\u3092\u3054\u81ea\u8eab\u306e\u5024\u306b\u5909\u66f4\u3057\u3066\u304f\u3060\u3055\u3044\uff08ex. df_data_1\uff09\n\ndf = df_data_X\nprint (df.shape)"
        },
        {
            "cell_type": "code",
            "execution_count": null,
            "metadata": {},
            "outputs": [],
            "source": "# \u4e0b\u306e\u884c\u306b\u30ab\u30fc\u30bd\u30eb\u3092\u5408\u308f\u305b\u3001insert to code > pandas dataframe\n\n# \u4ee5\u4e0b\u306e\u884c\u306e\u3001df_data_X\u306e\u90e8\u5206\u3092\u3054\u81ea\u8eab\u306e\u5024\u306b\u5909\u66f4\u3057\u3066\u304f\u3060\u3055\u3044\uff08ex. df_data_1\uff09\ndf = df_data_X\nprint (df.shape)"
        },
        {
            "cell_type": "markdown",
            "metadata": {},
            "source": "\u8aad\u307f\u8fbc\u3093\u3060\u30c7\u30fc\u30bf\u306e\u5148\u982d5\u884c\u3092\u898b\u3066\u307f\u307e\u3057\u3087\u3046\u3002"
        },
        {
            "cell_type": "code",
            "execution_count": null,
            "metadata": {},
            "outputs": [],
            "source": "#\u30c7\u30fc\u30bf\u30d5\u30ec\u30fc\u30e0\u306e\u5148\u982d\uff15\u884c\u3092\u8868\u793a\n#head(): \u7528\u610f\u3055\u308c\u3066\u3044\u308b\u95a2\u6570\n    \ndf.head()"
        },
        {
            "cell_type": "code",
            "execution_count": null,
            "metadata": {},
            "outputs": [],
            "source": "y = df[\"churn\"].value_counts()\nsns.barplot(y.index, y.values)"
        },
        {
            "cell_type": "code",
            "execution_count": null,
            "metadata": {},
            "outputs": [],
            "source": "y_True = df[\"churn\"][df[\"churn\"] == True]\nprint (\"Churn Percentage = \"+str( (y_True.shape[0] / df[\"churn\"].shape[0]) * 100 ))"
        },
        {
            "cell_type": "markdown",
            "metadata": {},
            "source": "## \u30c7\u30fc\u30bf\u306e\u5206\u6790\uff1aDescriptive Analysis\n\n\u7279\u5b9a\u306e\u9805\u76ee\u3068\u3001\u30c1\u30e3\u30fc\u30f3\u306e\u767a\u751f\u7387\u3092\u898b\u3066\u307f\u307e\u3057\u3087\u3046\u3002  \nmatplotlib\u306eplot()\u95a2\u6570\u3092\u4f7f\u7528\u3059\u308b\u3053\u3068\u306b\u3088\u308a\u3001\u8996\u899a\u7684\u306b\u95a2\u4fc2\u3092\u63cf\u753b\u3057\u307e\u3059\u3002"
        },
        {
            "cell_type": "code",
            "execution_count": null,
            "metadata": {},
            "outputs": [],
            "source": "  df.describe()"
        },
        {
            "cell_type": "markdown",
            "metadata": {},
            "source": "### State\u3068\u30c1\u30e3\u30fc\u30f3\u306e\u95a2\u4fc2 "
        },
        {
            "cell_type": "code",
            "execution_count": null,
            "metadata": {},
            "outputs": [],
            "source": "df.groupby([\"state\", \"churn\"]).size().unstack().plot(kind='bar', stacked=True, figsize=(30,10)) "
        },
        {
            "cell_type": "markdown",
            "metadata": {},
            "source": "### Area Code \u3068\u30c1\u30e3\u30fc\u30f3\u306e\u95a2\u4fc2"
        },
        {
            "cell_type": "code",
            "execution_count": null,
            "metadata": {},
            "outputs": [],
            "source": "df.groupby([\"area code\", \"churn\"]).size().unstack().plot(kind='bar', stacked=True, figsize=(5,5)) "
        },
        {
            "cell_type": "markdown",
            "metadata": {},
            "source": "###  \u9078\u629e\u3057\u3066\u3044\u308b\u30d7\u30e9\u30f3\u3068\u30c1\u30e3\u30fc\u30f3\u306e\u95a2\u4fc2 "
        },
        {
            "cell_type": "code",
            "execution_count": null,
            "metadata": {},
            "outputs": [],
            "source": "df.groupby([\"international plan\", \"churn\"]).size().unstack().plot(kind='bar', stacked=True, figsize=(5,5)) "
        },
        {
            "cell_type": "markdown",
            "metadata": {},
            "source": "### Voice mail plan\u3068\u30c1\u30e3\u30fc\u30f3\u306e\u95a2\u4fc2"
        },
        {
            "cell_type": "code",
            "execution_count": null,
            "metadata": {},
            "outputs": [],
            "source": "df.groupby([\"voice mail plan\", \"churn\"]).size().unstack().plot(kind='bar', stacked=True, figsize=(5,5)) "
        },
        {
            "cell_type": "markdown",
            "metadata": {},
            "source": "## \u30c7\u30fc\u30bf\u306e\u6e96\u5099"
        },
        {
            "cell_type": "markdown",
            "metadata": {},
            "source": "\u6a5f\u68b0\u5b66\u7fd2\u30e2\u30c7\u30eb\u306b\u53d6\u308a\u8fbc\u3080\u6700\u7d42\u7684\u306a\u30c7\u30fc\u30bf\u30bb\u30c3\u30c8\u3092\u4f5c\u6210\u3059\u308b\u305f\u3081\u306b\u3001\u4ee5\u4e0b\u306e\u624b\u9806\u3092\u5b9f\u65bd\u3057\u3066\u3044\u304d\u307e\u3059\u3002\n\u4e00\u822c\u306b\u3001\u30c7\u30fc\u30bf\u3092\u6e96\u5099\u3059\u308b\u305f\u3081\u306e\u3053\u308c\u3089\u306e\u30bf\u30b9\u30af\u306f\u9806\u4e0d\u540c\u3067\u8907\u6570\u56de\u884c\u308f\u308c\u307e\u3059\u3002\n\n\n1. \u30c7\u30fc\u30bf\u5909\u6570\u306e\u30bf\u30a4\u30d7\u3092\u8abf\u6574\u3059\u308b\n2. \u5fdc\u7b54\u30d9\u30af\u30bf\u30fc\u3092\u4f5c\u6210\u3059\u308b\n3. \u4f59\u5206\u306a\u5217\u3092\u524a\u9664\u3059\u308b\n4. \u30d5\u30a3\u30fc\u30c1\u30e3\u30fc\u30de\u30c8\u30ea\u30af\u30b9\u3092\u4f5c\u6210\u3059\u308b\n5. \u30c7\u30fc\u30bf\u3092\u6b63\u898f\u5316\u3059\u308b\n"
        },
        {
            "cell_type": "markdown",
            "metadata": {},
            "source": "### Encode categorical columns"
        },
        {
            "cell_type": "code",
            "execution_count": null,
            "metadata": {},
            "outputs": [],
            "source": "# Integer\u3078\u306e\u30a8\u30f3\u30b3\u30fc\u30c0\u30fc\u306e\u8aad\u307f\u8fbc\u307f\nlabel_encoder = preprocessing.LabelEncoder()\n\n# State, international plans,  voice mail plan\u306f\u6587\u5b57\u5217\u306e\u30c7\u30fc\u30bf\u306e\u305f\u3081\u3001Int\uff08\u6570\u5024\uff09\u578b\u306b\u5909\u63db\u3057\u307e\u3059\u3002\ndf['state'] = label_encoder.fit_transform(df['state'])\ndf['international plan'] = label_encoder.fit_transform(df['international plan'])\ndf['voice mail plan'] = label_encoder.fit_transform(df['voice mail plan'])\n\nprint (df.dtypes)"
        },
        {
            "cell_type": "code",
            "execution_count": null,
            "metadata": {
                "scrolled": true
            },
            "outputs": [],
            "source": "print (df.shape)\ndf.head()"
        },
        {
            "cell_type": "markdown",
            "metadata": {},
            "source": "### \u5fdc\u7b54\u30d9\u30af\u30bf\u30fc\u306e\u4f5c\u6210"
        },
        {
            "cell_type": "code",
            "execution_count": null,
            "metadata": {},
            "outputs": [],
            "source": "y = df['churn'].values.astype(np.int)\ny.size"
        },
        {
            "cell_type": "markdown",
            "metadata": {},
            "source": "###  \u4f59\u5206\u306a\u5217\u306e\u524a\u9664"
        },
        {
            "cell_type": "code",
            "execution_count": null,
            "metadata": {},
            "outputs": [],
            "source": "# df = df.drop([\"Id\",\"Churn\"], axis = 1, inplace=True)\ndf.drop([\"phone number\",\"churn\"], axis = 1, inplace=True)\ndf.head()"
        },
        {
            "cell_type": "markdown",
            "metadata": {},
            "source": "### feature matrix\u306e\u4f5c\u6210"
        },
        {
            "cell_type": "code",
            "execution_count": null,
            "metadata": {},
            "outputs": [],
            "source": "X = df.values.astype(np.float)\nprint(X)\nX.shape"
        },
        {
            "cell_type": "markdown",
            "metadata": {},
            "source": "### Feature Matrix \u5909\u6570\u306e\u6b63\u898f\u5316"
        },
        {
            "cell_type": "code",
            "execution_count": null,
            "metadata": {},
            "outputs": [],
            "source": "scaler = preprocessing.StandardScaler()\nX = scaler.fit_transform(X)\nX"
        },
        {
            "cell_type": "markdown",
            "metadata": {},
            "source": "## \u30c6\u30b9\u30c8\u30c7\u30fc\u30bf\u3068\u5b66\u7fd2\u30c7\u30fc\u30bf\u3092\u5206\u5272\u3059\u308b"
        },
        {
            "cell_type": "markdown",
            "metadata": {},
            "source": "\u30e2\u30c7\u30eb\u306e\u4f5c\u6210\u30d5\u30a7\u30fc\u30ba\u3067\u306f\u3001(\u5c64\u5225\u4ea4\u5dee\u691c\u8a3c\u3092\u4f7f\u7528\u3057\u3066) \u30c7\u30fc\u30bf\u30bb\u30c3\u30c8\u3092\u30c8\u30ec\u30fc\u30cb\u30f3\u30b0\u30fb\u30c7\u30fc\u30bf\u3068\u30c6\u30b9\u30c8\u30fb\u30c7\u30fc\u30bf\u306b\u5206\u5272\u3057\u3066\u304b\u3089\u3001\u500b\u3005\u306e\u5206\u985e\u30a2\u30eb\u30b4\u30ea\u30ba\u30e0 (GradientBoostingClassifier\u3001\u30b5\u30dd\u30fc\u30c8\u30fb\u30d9\u30af\u30c8\u30eb\u30fb\u30de\u30b7\u30f3\u3001\u30e9\u30f3\u30c0\u30e0\u30fb\u30d5\u30a9\u30ec\u30b9\u30c8\u3001k \u8fd1\u508d\u6cd5\u306a\u3069) \u3092\u4f7f\u7528\u3057\u3066\u8907\u6570\u306e\u30e2\u30c7\u30eb\u3092\u30c8\u30ec\u30fc\u30cb\u30f3\u30b0\u3057\u3066\u3044\u304d\u307e\u3059\u3002\n"
        },
        {
            "cell_type": "code",
            "execution_count": null,
            "metadata": {},
            "outputs": [],
            "source": "def stratified_cv(X, y, clf_class, shuffle=True, n_folds=10):\n    stratified_k_fold = model_selection.StratifiedKFold(n_splits=n_folds, shuffle=shuffle)\n    y_pred = y.copy()\n    \n    # ii -> train\n    # jj -> test indices\n    for ii, jj in stratified_k_fold.split(X, y): \n        X_train, X_test = X[ii], X[jj]\n        y_train = y[ii]\n        clf = clf_class\n        clf.fit(X_train,y_train)\n        y_pred[jj] = clf.predict(X_test)\n    return y_pred"
        },
        {
            "cell_type": "markdown",
            "metadata": {},
            "source": "## \u30e2\u30c7\u30eb\u306e\u4f5c\u6210"
        },
        {
            "cell_type": "markdown",
            "metadata": {},
            "source": "\u4f7f\u7528\u3057\u3066\u3044\u308bScikit-learn\u304c\u642d\u8f09\u3057\u3066\u3044\u308b\u30a2\u30eb\u30b4\u30ea\u30ba\u30e0\u3092\u4f7f\u7528\u3057\u3066\u3001\u30e2\u30c7\u30eb\u3092\u4f5c\u6210\u3057\u3066\u3044\u304d\u307e\u3059\u3002"
        },
        {
            "cell_type": "code",
            "execution_count": null,
            "metadata": {},
            "outputs": [],
            "source": "# create classifiers\nfrom sklearn.ensemble import GradientBoostingClassifier\ngradient_boost = GradientBoostingClassifier()\n\nfrom sklearn.svm import SVC\nsvc_model = SVC(gamma='auto')\n\nfrom sklearn.ensemble import RandomForestClassifier\nrandom_forest = RandomForestClassifier(n_estimators=10)\n\nfrom sklearn.neighbors import KNeighborsClassifier\nk_neighbors = KNeighborsClassifier()\n\nfrom sklearn.linear_model import LogisticRegression\nlogistic_regression = LogisticRegression(solver='lbfgs')"
        },
        {
            "cell_type": "code",
            "execution_count": null,
            "metadata": {},
            "outputs": [],
            "source": "print('Gradient Boosting Classifier:  {:.2f}'.format(metrics.accuracy_score(y, stratified_cv(X, y, gradient_boost))))\nprint('Support vector machine(SVM):   {:.2f}'.format(metrics.accuracy_score(y, stratified_cv(X, y, svc_model))))\nprint('Random Forest Classifier:      {:.2f}'.format(metrics.accuracy_score(y, stratified_cv(X, y, random_forest))))\nprint('K Nearest Neighbor Classifier: {:.2f}'.format(metrics.accuracy_score(y, stratified_cv(X, y, k_neighbors))))\nprint('Logistic Regression:           {:.2f}'.format(metrics.accuracy_score(y, stratified_cv(X, y, logistic_regression))))"
        },
        {
            "cell_type": "markdown",
            "metadata": {},
            "source": "## \u30e2\u30c7\u30eb\u306e\u8a55\u4fa1"
        },
        {
            "cell_type": "markdown",
            "metadata": {},
            "source": "\u4f5c\u6210\u3057\u305f\u7a2e\u3005\u306e\u30e2\u30c7\u30eb\u306e\u4e88\u6e2c\u7d50\u679c\u3092\u30de\u30c8\u30ea\u30af\u30b9\u3067\u63cf\u753b\u3057\u3001\u305d\u308c\u305e\u308c\u306e\u8a73\u7d30\u3092\u5206\u6790\u3057\u3066\u3044\u304d\u307e\u3059\u3002"
        },
        {
            "cell_type": "markdown",
            "metadata": {},
            "source": "### Gradient Boosting Classifier"
        },
        {
            "cell_type": "code",
            "execution_count": null,
            "metadata": {},
            "outputs": [],
            "source": "grad_ens_conf_matrix = metrics.confusion_matrix(y, stratified_cv(X, y, gradient_boost))\nsns.heatmap(grad_ens_conf_matrix, annot=True,  fmt='');\ntitle = 'Gradient Boosting'\nplt.title(title);"
        },
        {
            "cell_type": "markdown",
            "metadata": {},
            "source": "### Support Vector Machines"
        },
        {
            "cell_type": "code",
            "execution_count": null,
            "metadata": {},
            "outputs": [],
            "source": "svm_svc_conf_matrix = metrics.confusion_matrix(y, stratified_cv(X, y, svc_model))\nsns.heatmap(svm_svc_conf_matrix, annot=True,  fmt='');\ntitle = 'SVM'\nplt.title(title);"
        },
        {
            "cell_type": "markdown",
            "metadata": {},
            "source": "### Random Forest"
        },
        {
            "cell_type": "code",
            "execution_count": null,
            "metadata": {},
            "outputs": [],
            "source": "random_forest_conf_matrix = metrics.confusion_matrix(y, stratified_cv(X, y, random_forest))\nsns.heatmap(random_forest_conf_matrix, annot=True,  fmt='');\ntitle = 'Random Forest'\nplt.title(title);"
        },
        {
            "cell_type": "markdown",
            "metadata": {},
            "source": "### Classification Report"
        },
        {
            "cell_type": "code",
            "execution_count": null,
            "metadata": {},
            "outputs": [],
            "source": "print('Gradient Boosting Classifier:\\n {}\\n'.format(metrics.classification_report(y, stratified_cv(X, y, gradient_boost))))\nprint('Support vector machine(SVM):\\n {}\\n'.format(metrics.classification_report(y, stratified_cv(X, y, svc_model))))\nprint('Random Forest Classifier:\\n {}\\n'.format(metrics.classification_report(y, stratified_cv(X, y, random_forest))))"
        },
        {
            "cell_type": "markdown",
            "metadata": {},
            "source": "## \u30e2\u30c7\u30eb\u306e\u9078\u629e"
        },
        {
            "cell_type": "markdown",
            "metadata": {},
            "source": "\u4eca\u56de\u306e\u4f8b\u3067\u306f\u3001Gradient Boosting\u30a2\u30eb\u30b4\u30ea\u30ba\u30e0\u3067\u4f5c\u6210\u3057\u305f\u30e2\u30c7\u30eb\u3092\u9078\u629e\u3057\u307e\u3059\u3002"
        },
        {
            "cell_type": "code",
            "execution_count": null,
            "metadata": {},
            "outputs": [],
            "source": "gbc = ensemble.GradientBoostingClassifier()\ngbc.fit(X, y)"
        },
        {
            "cell_type": "code",
            "execution_count": null,
            "metadata": {
                "scrolled": true
            },
            "outputs": [],
            "source": "# \u672c\u30e2\u30c7\u30eb\u306b\u304a\u3044\u3066\u3001\u91cd\u8981\u3067\u3042\u308b\u3068\u8a55\u4fa1\u3055\u308c\u305f\u5c5e\u6027\u3092\u53d6\u5f97\u3057\u307e\u3059\u3002\nfeature_importance = gbc.feature_importances_\nprint (gbc.feature_importances_)\nfeat_importances = pd.Series(gbc.feature_importances_, index=df.columns)\nfeat_importances = feat_importances.nlargest(19)\nfeat_importances.plot(kind='barh' , figsize=(10,10)) "
        },
        {
            "cell_type": "markdown",
            "metadata": {},
            "source": "## \u3010\u53c2\u8003\u3011Watson Machine Learning\u4e0a\u306b\u30e2\u30c7\u30eb\u3092\u4fdd\u5b58\u3001\u30c7\u30d7\u30ed\u30a4\u3059\u308b\n"
        },
        {
            "cell_type": "markdown",
            "metadata": {},
            "source": "AutoAI\u3067\u30e2\u30c7\u30eb\u3092\u4f5c\u6210\u3057\u305f\u30cf\u30f3\u30ba\u30aa\u30f3\u3067\u306f\u3001\u30e2\u30c7\u30eb\u306e\u4fdd\u5b58\u3001WatsonML\u3078\u306e\u30c7\u30d7\u30ed\u30a4\u306f\u30b0\u30e9\u30d5\u30a3\u30ab\u30eb\u30a4\u30f3\u30bf\u30fc\u30d5\u30a7\u30fc\u30b9\u3067\u884c\u3044\u307e\u3057\u305f\u3002  \n\u672cNotebook\u306e\u3088\u3046\u306b\u3001OSS\u3092\u4f7f\u7528\u3057\u3066\u30e2\u30c7\u30eb\u3092\u4f5c\u6210\u3057\u305f\u5834\u5408\u3067\u3082\u3001\u3082\u3061\u308d\u3093WatsonML\u3078\u30c7\u30d7\u30ed\u30a4\u3059\u308b\u3053\u3068\u304c\u53ef\u80fd\u3067\u3059\u3002  \n\n\u4fdd\u5b58\u5148\u3068\u306a\u308b\u3054\u81ea\u8eab\u306eWatson ML\u30b5\u30fc\u30d3\u30b9\u306e\u8cc7\u683c\u60c5\u5831\u3092\u4e0b\u8a18\u30b3\u30fc\u30c9\u306b\u8a18\u8ff0\u3059\u308c\u3070\u3001\u4e0a\u306e\u624b\u9806\u3067\u4f5c\u6210\u3057\u305f\u30e2\u30c7\u30eb\u3092\u30c7\u30d7\u30ed\u30a4\u3059\u308b\u3053\u3068\u304c\u53ef\u80fd\u3067\u3059\u3002  \nWatson ML\u3068\u306e\u3084\u308a\u53d6\u308a\u306fWatsonSDK\uff08Watson\u30b5\u30fc\u30d3\u30b9\u3068\u306e\u3084\u308a\u3068\u308a\u3092\u7c21\u5358\u306b\u884c\u3048\u308b\u30e9\u30a4\u30d6\u30e9\u30ea\u90e1\uff09\u3092\u4f7f\u7528\u3057\u3066\u884c\u3044\u307e\u3059\u3002"
        },
        {
            "cell_type": "code",
            "execution_count": null,
            "metadata": {},
            "outputs": [],
            "source": "# create client to access our WML service\nfrom watson_machine_learning_client import WatsonMachineLearningAPIClient\n\nwml_credentials = {\n  \"apikey\": \"****\",\n  \"iam_apikey_description\": \"Auto-generated for key ****\",\n  \"iam_apikey_name\": \"wdp-writer\",\n  \"iam_role_crn\": \"crn:v1:bluemix:public:iam::::serviceRole:Writer\",\n  \"iam_serviceid_crn\": \"crn:v1:bluemix:public:iam-identity::a/bc1bd51c396536dc7d5f81d5a4e****::serviceid:ServiceId-855c9709-e7f0-4fcc-8c48-93540cde****\",\n  \"instance_id\": \"****\",\n  \"password\": \"****\",\n  \"url\": \"https://us-south.ml.cloud.ibm.com\",\n  \"username\": \"****\"\n}\n\nclient = WatsonMachineLearningAPIClient(wml_credentials)\nprint(client.version)"
        },
        {
            "cell_type": "code",
            "execution_count": null,
            "metadata": {
                "scrolled": true
            },
            "outputs": [],
            "source": "# Use this cell to do any cleanup of previously created models and deployments\nclient.repository.list_models()\nclient.deployments.list()\n\n# client.repository.delete('GUID of stored model')\n# client.deployments.delete('GUID of deployed model')"
        },
        {
            "cell_type": "code",
            "execution_count": null,
            "metadata": {},
            "outputs": [],
            "source": "# store the model in WML\nmeta_props={client.repository.ModelMetaNames.NAME: \"Gradient Boosting model to predict customer churn\"}\npublished_model = client.repository.store_model(model=gbc, meta_props={client.repository.ModelMetaNames.NAME: \"Gradient Boosting model to predict customer churn\"})\n"
        },
        {
            "cell_type": "code",
            "execution_count": null,
            "metadata": {},
            "outputs": [],
            "source": "# new list of models\nclient.repository.list_models()\n\n# get UID of our just stored model\nmodel_uid = client.repository.get_model_uid(published_model)\nprint(\"Model id: {}\".format(model_uid))"
        },
        {
            "cell_type": "code",
            "execution_count": null,
            "metadata": {},
            "outputs": [],
            "source": "# create deployment\ncreated_deployment = client.deployments.create(model_uid, name=\"customer_churn_model_gb\")\n\n# new list of deployments\nclient.deployments.list()\n\n# get UID of our new deployment\ndeployment_uid = client.deployments.get_uid(created_deployment)\nprint(\"Deployment id: {}\".format(deployment_uid))\nprint(created_deployment)"
        },
        {
            "cell_type": "code",
            "execution_count": null,
            "metadata": {},
            "outputs": [],
            "source": "# get scoring end point\nscoring_endpoint = client.deployments.get_scoring_url(created_deployment)\nprint(scoring_endpoint)"
        },
        {
            "cell_type": "code",
            "execution_count": null,
            "metadata": {},
            "outputs": [],
            "source": "# use our WML client to score our model\n\n# add some test data\nscoring_payload = {'fields': ['state', 'account length', 'area code', 'international plan', 'voice mail plan',\n        'number vmail messages', 'total day minutes', 'total day calls', 'total day charge', 'total eve minutes', 'total eve calls',\n        'total eve charge', 'total night minutes', 'total night calls', 'total night charge', 'total intl minutes', 'total intl calls',\n        'total intl charge', 'customer service calls'], \n                    'values': [[2,162,415,0,0,0,70.7,108,12.02,157.5,87,13.39,154.8,82,6.97,9.1,3,2.46,4]]}"
        },
        {
            "cell_type": "code",
            "execution_count": null,
            "metadata": {},
            "outputs": [],
            "source": "# score the model\npredictions = client.deployments.score(scoring_endpoint, scoring_payload)\nprint('prediction',json.dumps(predictions, indent=2))"
        },
        {
            "cell_type": "markdown",
            "metadata": {},
            "source": "## \u53c2\u8003"
        },
        {
            "cell_type": "markdown",
            "metadata": {},
            "source": "\u672c\u30b3\u30fc\u30c9\u306f\u4ee5\u4e0b\u3092\u53c2\u8003\u306b\u4f5c\u6210\u3055\u308c\u3066\u3044\u307e\u3059\u3002\nhttps://www.ibm.com/developerworks/jp/library/watson-studio-using-jupyter-notebook/\n\uff08IBM Watson Studio\u7121\u3044\u3067Jupyter\u30ce\u30fc\u30c8\u30d6\u30c3\u30af\u3092\u4f7f\u7528\u3057\u3066\u30e2\u30c7\u30eb\u3092\u4f5c\u6210\u3059\u308b\uff09\n\nhttps://www.kaggle.com/sandipdatta/customer-churn-analysis#\n\n"
        }
    ],
    "metadata": {
        "kernelspec": {
            "display_name": "Python 3.6",
            "language": "python",
            "name": "python3"
        },
        "language_info": {
            "codemirror_mode": {
                "name": "ipython",
                "version": 3
            },
            "file_extension": ".py",
            "mimetype": "text/x-python",
            "name": "python",
            "nbconvert_exporter": "python",
            "pygments_lexer": "ipython3",
            "version": "3.6.9"
        }
    },
    "nbformat": 4,
    "nbformat_minor": 1
}